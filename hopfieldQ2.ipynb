{
  "cells": [
    {
      "cell_type": "code",
      "execution_count": null,
      "metadata": {
        "id": "ojRsAzdgVEqf"
      },
      "outputs": [
        {
          "ename": "",
          "evalue": "",
          "output_type": "error",
          "traceback": [
            "\u001b[1;31mRunning cells with 'c:\\Users\\Ishan\\AppData\\Local\\Programs\\Python\\Python310\\python.exe' requires the ipykernel package.\n",
            "\u001b[1;31mRun the following command to install 'ipykernel' into the Python environment. \n",
            "\u001b[1;31mCommand: 'c:/Users/Ishan/AppData/Local/Programs/Python/Python310/python.exe -m pip install ipykernel -U --user --force-reinstall'"
          ]
        }
      ],
      "source": [
        "import numpy as np\n",
        "\n",
        "class HopfieldNetwork:\n",
        "\n",
        "  def __init__(self, num_neurons) :\n",
        "\n",
        "    self.num_neurons = num_neurons\n",
        "    self.weights = np.zeros((num_neurons, num_neurons))\n",
        "\n",
        "  def train (self, input_patterns):\n",
        "    rows,columns = input_patterns.shape\n",
        "    for pattern in input_patterns:\n",
        "      pattern = np.reshape(pattern, (self.num_neurons, 1))\n",
        "      self.weights += np.dot(pattern, pattern.T) \n",
        "      np.fill_diagonal (self.weights, 0)\n",
        "    self.weights = self.weights/rows\n",
        "\n",
        "  def predict (self, input_pattern):\n",
        "    \n",
        "    for pattern in input_pattern:\n",
        "      x = np.array(pattern)\n",
        "      y = np.array(pattern)\n",
        "       \n",
        "      for i in range(len(y)):\n",
        "        activation = np.sign(x[i]+ np.dot(y,self.weights[i]))\n",
        "        if(activation  == 0):\n",
        "          activation = 1\n",
        "        y[i] = activation\n",
        "      print(\"for \",x ,\"output is\", y)\n",
        "    "
      ]
    },
    {
      "cell_type": "code",
      "execution_count": null,
      "metadata": {
        "colab": {
          "base_uri": "https://localhost:8080/"
        },
        "id": "KA3Bb9pgQU3t",
        "outputId": "6e1258de-857c-447f-9649-51c1ed75d3df"
      },
      "outputs": [
        {
          "name": "stdout",
          "output_type": "stream",
          "text": [
            "for  [ 1 -1 -1  1] output is [-1 -1 -1  1]\n",
            "for  [ 1 -1  1  1] output is [1 1 1 1]\n"
          ]
        }
      ],
      "source": [
        "# Number of neurons = length of bit\n",
        "# Synchronous updation\n",
        "num_neurons =4\n",
        "HopField = HopfieldNetwork(num_neurons) \n",
        "input_patterns= np.array([[1,1,1,1],[-1,-1,-1,1],[-1,-1,1,1]])\n",
        "HopField.train(input_patterns)\n",
        "\n",
        "input_pattern = np.array([[1,-1,-1,1],[1,-1,1,1]])\n",
        "HopField.predict(input_pattern)\n",
        "\n"
      ]
    }
  ],
  "metadata": {
    "colab": {
      "provenance": []
    },
    "kernelspec": {
      "display_name": "Python 3",
      "language": "python",
      "name": "python3"
    },
    "language_info": {
      "name": "python",
      "version": "3.10.5"
    },
    "vscode": {
      "interpreter": {
        "hash": "60ddca3d3a9695e4ac498306a89d70885530c949e4ef04f2e69d8a917b966b37"
      }
    }
  },
  "nbformat": 4,
  "nbformat_minor": 0
}
