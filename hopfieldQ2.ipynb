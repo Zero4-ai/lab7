{
  "nbformat": 4,
  "nbformat_minor": 0,
  "metadata": {
    "colab": {
      "provenance": []
    },
    "kernelspec": {
      "name": "python3",
      "display_name": "Python 3"
    },
    "language_info": {
      "name": "python"
    }
  },
  "cells": [
    {
      "cell_type": "code",
      "execution_count": null,
      "metadata": {
        "id": "ojRsAzdgVEqf"
      },
      "outputs": [],
      "source": [
        "import numpy as np\n",
        "\n",
        "class HopfieldNetwork:\n",
        "\n",
        "  def __init__(self, num_neurons) :\n",
        "\n",
        "    self.num_neurons = num_neurons\n",
        "    self.weights = np.zeros((num_neurons, num_neurons))\n",
        "\n",
        "  def train (self, input_patterns):\n",
        "    rows,columns = input_patterns.shape\n",
        "    for pattern in input_patterns:\n",
        "      pattern = np.reshape(pattern, (self.num_neurons, 1))\n",
        "      self.weights += np.dot(pattern, pattern.T) \n",
        "      np.fill_diagonal (self.weights, 0)\n",
        "    self.weights = self.weights/rows\n",
        "\n",
        "  def predict (self, input_pattern):\n",
        "    \n",
        "    for pattern in input_pattern:\n",
        "      x = np.array(pattern)\n",
        "      y = np.array(pattern)\n",
        "       \n",
        "      for i in range(len(y)):\n",
        "        # print(\"y[\",i,\"] is\",y[i] )\n",
        "        # print(\"x[\",i,\"] is\",x[i] )\n",
        "        # print(\"corresponding weights\", self.weights[i])\n",
        "        # print(\"Dot is \", np.dot(y,self.weights[i]))\n",
        "        activation = np.sign(x[i]+ np.dot(y,self.weights[i]))\n",
        "        if(activation  == 0):\n",
        "          activation = 1\n",
        "        y[i] = activation\n",
        "\n",
        "        # print(\"new y[\",i,\"] is\",y[i] )\n",
        "        # print(\"y is \", y)\n",
        "      print(\"for \",x ,\"output is\", y)\n",
        "    "
      ]
    },
    {
      "cell_type": "code",
      "source": [
        "# Number of neurons = length of bit\n",
        "# Synchronous updation\n",
        "num_neurons =4\n",
        "HopField = HopfieldNetwork(num_neurons) \n",
        "input_patterns= np.array([[1,1,1,1],[-1,-1,-1,1],[-1,-1,1,1]])\n",
        "HopField.train(input_patterns)\n",
        "\n",
        "input_pattern = np.array([[1,-1,-1,1],[1,-1,1,1]])\n",
        "HopField.predict(input_pattern)\n",
        "\n"
      ],
      "metadata": {
        "colab": {
          "base_uri": "https://localhost:8080/"
        },
        "id": "KA3Bb9pgQU3t",
        "outputId": "6e1258de-857c-447f-9649-51c1ed75d3df"
      },
      "execution_count": null,
      "outputs": [
        {
          "output_type": "stream",
          "name": "stdout",
          "text": [
            "for  [ 1 -1 -1  1] output is [-1 -1 -1  1]\n",
            "for  [ 1 -1  1  1] output is [1 1 1 1]\n"
          ]
        }
      ]
    },
    {
      "cell_type": "code",
      "source": [],
      "metadata": {
        "colab": {
          "base_uri": "https://localhost:8080/"
        },
        "id": "mkdUErqOTLoT",
        "outputId": "0183221f-43a3-4a61-8a1b-76ea390e51fa"
      },
      "execution_count": null,
      "outputs": [
        {
          "output_type": "stream",
          "name": "stdout",
          "text": [
            "[[ 1  1  1]\n",
            " [-1 -1 -1]]\n",
            "pattern is  [1 1 1]\n",
            "[1 1 1]\n",
            "weight is [[0. 0. 0. 0.]\n",
            " [0. 0. 0. 0.]\n",
            " [0. 0. 0. 0.]\n",
            " [0. 0. 0. 0.]]\n",
            "pattern is  [-1 -1 -1]\n",
            "[-1 -1 -1]\n",
            "weight is [[0. 0. 0. 0.]\n",
            " [0. 0. 0. 0.]\n",
            " [0. 0. 0. 0.]\n",
            " [0. 0. 0. 0.]]\n",
            "[[0. 0. 0. 0.]\n",
            " [0. 0. 0. 0.]\n",
            " [0. 0. 0. 0.]\n",
            " [0. 0. 0. 0.]]\n"
          ]
        }
      ]
    }
  ]
}