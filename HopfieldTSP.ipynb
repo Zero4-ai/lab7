{
  "cells": [
    {
      "cell_type": "code",
      "execution_count": null,
      "metadata": {
        "id": "sLO97HDhS4gi"
      },
      "outputs": [],
      "source": [
        "\n",
        "import numpy as np \n",
        "class HopfieldTSPSolver:\n",
        "   \n",
        "  def __init__(self, cities, iterations=100): \n",
        "    self.cities = cities \n",
        "    self.iterations = iterations \n",
        "    self.num_cities = len(cities) \n",
        "    self.weights = self._initialize_weights() \n",
        "    \n",
        "  def _initialize_weights(self):\n",
        "    weights = np.zeros((self.num_cities, self.num_cities)) \n",
        "    for i in range(self.num_cities): \n",
        "      for j in range(i + 1, self.num_cities): \n",
        "        dist = np.linalg.norm(self.cities[i] - self.cities[j]) \n",
        "        weights[i, j] = dist \n",
        "        weights[j, i] = dist \n",
        "      return weights \n",
        "\n",
        "  def solve(self): \n",
        "    state = np.random.permutation(self.num_cities) \n",
        "    for i in range(self.iterations): \n",
        "      energy = self._calculate_energy(state) \n",
        "      neighbors = self._get_neighbors(state) \n",
        "      neighbor_energies = [self._calculate_energy(n) for n in neighbors] \n",
        "      min_energy = min(neighbor_energies) \n",
        "      if min_energy < energy: \n",
        "        state = neighbors[neighbor_energies.index(min_energy)] \n",
        "    return state\n",
        "\n",
        "  def _calculate_energy(self, state): \n",
        "    energy = 0 \n",
        "    for i in range(self.num_cities):\n",
        "      j = (i + 1) % self.num_cities \n",
        "      energy += self.weights[state[i], state[j]] \n",
        "    return energy\n",
        "\n",
        "  def _get_neighbors(self, state): \n",
        "    neighbors = [] \n",
        "    for i in range(self.num_cities): \n",
        "      for j in range(i + 1, self.num_cities): \n",
        "        neighbor = np.copy(state) \n",
        "        neighbor[i], neighbor[j] = neighbor[j], neighbor[i]  \n",
        "        # Basically creates a new permutation by changing 2 states\n",
        "        neighbors.append(neighbor) \n",
        "      return neighbors \n"
      ]
    },
    {
      "cell_type": "code",
      "execution_count": null,
      "metadata": {
        "colab": {
          "base_uri": "https://localhost:8080/"
        },
        "id": "v_ggJ816T77N",
        "outputId": "690566fd-bd44-440c-b695-6fd9c3e36141"
      },
      "outputs": [
        {
          "name": "stdout",
          "output_type": "stream",
          "text": [
            "[2 0 1 3 4]\n"
          ]
        }
      ],
      "source": [
        "cities = np.array([[0, 0], [1, 1], [2, 2], [3, 3], [4, 1]]) \n",
        "solver = HopfieldTSPSolver(cities) \n",
        "solution = solver.solve() \n",
        "print(solution) "
      ]
    }
<<<<<<< HEAD
  ],
  "metadata": {
    "colab": {
      "provenance": []
    },
    "kernelspec": {
      "display_name": "Python 3",
      "language": "python",
      "name": "python3"
    },
    "language_info": {
      "name": "python",
      "version": "3.10.5"
    },
    "vscode": {
      "interpreter": {
        "hash": "60ddca3d3a9695e4ac498306a89d70885530c949e4ef04f2e69d8a917b966b37"
      }
    }
  },
  "nbformat": 4,
  "nbformat_minor": 0
=======
  ]
>>>>>>> cbdfecdb362706ae8c8290fffe1ac9537224ca5d
}
