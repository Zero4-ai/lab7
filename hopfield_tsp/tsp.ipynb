{
 "cells": [
  {
   "cell_type": "code",
   "execution_count": null,
   "metadata": {},
   "outputs": [],
   "source": [
    "\n"
   ]
  },
  {
   "cell_type": "code",
   "execution_count": null,
   "metadata": {},
   "outputs": [],
   "source": [
    "import numpy as np\n",
    "\n",
    "distance_matrix = np.array(\n",
    "    \n",
    ")\n",
    "# define the Hopfield network parameters\n",
    "n = 10\n",
    "w = np.zeros((n, n))\n",
    "# compute the weight matrix\n",
    "\n",
    "for i in range(n):\n",
    "    for j in range (n):\n",
    "        if i!= j:\n",
    "            w[i][j] = -distance_matrix[i][j]\n",
    "        else:\n",
    "            w[i][j] = 0\n",
    "\n",
    "# define energy function for the hopfield network\n",
    "def energy(x):\n",
    "    e = 0\n",
    "    for i in range(n):\n",
    "        for j in range(n):\n",
    "            e += w[i][j] * x[i] * x[j]\n",
    "    return e\n",
    "\n",
    "def update(x):\n",
    "    i = np.random.randint(n)\n",
    "    u = np.dot(w[i], x)\n",
    "    if u > 0:\n",
    "        x[i] = 1\n",
    "    else:\n",
    "        x[i] = -1\n",
    "    return x\n",
    "\n",
    "def solve_tsp():\n",
    "    x = np.random.choice([-1, 1], size = n)\n",
    "\n",
    "    # this piece of code will produce error\n",
    "    e_prev = energy(x)\n",
    "    e_curr = e_prev\n",
    "    # e_curr = e_prev always (its defined that way)\n",
    "    while e_curr < e_prev:\n",
    "        e_prev = e_curr\n",
    "        x = update(x)\n",
    "        e_curr = energy(x)\n",
    "    \n",
    "    tour = []\n",
    "    for i in range(n):\n",
    "        if x[i] == 1:\n",
    "            tour.append(i)\n",
    "    return tour\n",
    "\n",
    "tour = solve_tsp()\n",
    "print(tour)"
   ]
  }
 ],
 "metadata": {
  "language_info": {
   "name": "python"
  },
  "orig_nbformat": 4
 },
 "nbformat": 4,
 "nbformat_minor": 2
}
